{
 "cells": [
  {
   "cell_type": "markdown",
   "metadata": {},
   "source": [
    "# Libraries"
   ]
  },
  {
   "cell_type": "code",
   "execution_count": 2,
   "metadata": {},
   "outputs": [],
   "source": [
    "import json\n",
    "import re\n",
    "import operator\n",
    "\n",
    "import numpy as np \n",
    "import pandas as pd\n",
    "import matplotlib.pyplot as plt\n",
    "from nltk.corpus import stopwords\n",
    "from pymystem3 import Mystem\n",
    "import pickle\n",
    "\n",
    "%matplotlib inline"
   ]
  },
  {
   "cell_type": "markdown",
   "metadata": {},
   "source": [
    "# Helper functions"
   ]
  },
  {
   "cell_type": "code",
   "execution_count": 3,
   "metadata": {},
   "outputs": [],
   "source": [
    "m = Mystem()\n",
    "stopWords = set(stopwords.words(\"russian\"))\n",
    "badwords = [u'я', u'а', u'да', u'но', u'тебе', u'мне', u'ты', u'и', u'у', u'на', u'ща', u'ага',\n",
    "            u'так', u'там', u'какие', u'который', u'какая', u'туда', u'давай', u'короче', u'кажется', u'вообще',\n",
    "            u'ну', u'не', u'чет', u'неа', u'свои', u'наше', u'хотя', u'такое', u'например', u'кароч', u'как-то',\n",
    "            u'нам', u'хм', u'всем', u'нет', u'да', u'оно', u'своем', u'про', u'вы', u'м', u'тд',\n",
    "            u'вся', u'кто-то', u'что-то', u'вам', u'это', u'эта', u'эти', u'этот', u'прям', u'либо', u'как', u'мы',\n",
    "            u'просто', u'блин', u'очень', u'самые', u'твоем', u'ваша', u'кстати', u'вроде', u'типа', u'пока', u'ок',u'в',\n",
    "            u'б',u'г',u'д',u'е',u'ж',u'з',u'й',u'к',u'л',u'ф',u'н',u'о',u'п',u'р',u'с',u'т',u'ч',u'ц',u'ч',\n",
    "            u'ш',u'щ',u'ь',u'ъ',u'ы',u'э','ю']\n",
    "\n",
    "for word in badwords:\n",
    "    stopWords.add(word)"
   ]
  },
  {
   "cell_type": "code",
   "execution_count": 4,
   "metadata": {
    "collapsed": true
   },
   "outputs": [],
   "source": [
    "def Lemmatisator(data):\n",
    "    lemma = m.lemmatize(data)\n",
    "    return ''.join(lemma)\n",
    "\n",
    "def stopwordsEleminator(data, negation=True): #True to leave all не, ни negations\n",
    "    for word in stopWords:\n",
    "        if(word == u'не' or word == u'ни') and (negation == True):\n",
    "            continue\n",
    "        if word in data:\n",
    "            for i in range(data.count(word)):\n",
    "                data.remove(word)\n",
    "    return data\n",
    "\n",
    "def dataCleaner(data, negationConcat = True): # False if clear all, True if clear and concatinate negations\n",
    "    cleanedData = re.sub(\"[^а-яА-ЯЁё]\",\" \", data) # leave only russian text\n",
    "    cleanedData = Lemmatisator(cleanedData)\n",
    "    cleanedData = cleanedData.lower().split()\n",
    "    cleanedData = stopwordsEleminator(cleanedData,negationConcat)\n",
    "    \n",
    "    if negationConcat == True:\n",
    "        for i in range (0, len(cleanedData)-1):\n",
    "            if(cleanedData[i] == u'не' or cleanedData[i] == u'ни'):\n",
    "                cleanedData[i+1]=('не'+cleanedData[i+1])\n",
    "        cleanedData = stopwordsEleminator(cleanedData,False)\n",
    "\n",
    "    return cleanedData"
   ]
  },
  {
   "cell_type": "markdown",
   "metadata": {},
   "source": [
    "# Data loading"
   ]
  },
  {
   "cell_type": "code",
   "execution_count": 5,
   "metadata": {
    "collapsed": true
   },
   "outputs": [],
   "source": [
    "depression_posts = pd.read_csv('suicuide_data_V2.csv')\n",
    "group_posts = pd.read_csv('group_posts.csv')\n",
    "user_posts = pd.read_csv('user_posts.csv')"
   ]
  },
  {
   "cell_type": "code",
   "execution_count": 6,
   "metadata": {},
   "outputs": [
    {
     "data": {
      "text/html": [
       "<div>\n",
       "<style>\n",
       "    .dataframe thead tr:only-child th {\n",
       "        text-align: right;\n",
       "    }\n",
       "\n",
       "    .dataframe thead th {\n",
       "        text-align: left;\n",
       "    }\n",
       "\n",
       "    .dataframe tbody tr th {\n",
       "        vertical-align: top;\n",
       "    }\n",
       "</style>\n",
       "<table border=\"1\" class=\"dataframe\">\n",
       "  <thead>\n",
       "    <tr style=\"text-align: right;\">\n",
       "      <th></th>\n",
       "      <th>age</th>\n",
       "      <th>name</th>\n",
       "      <th>text</th>\n",
       "      <th>person_id</th>\n",
       "      <th>response</th>\n",
       "    </tr>\n",
       "  </thead>\n",
       "  <tbody>\n",
       "    <tr>\n",
       "      <th>0</th>\n",
       "      <td>32.0</td>\n",
       "      <td>404</td>\n",
       "      <td>Когда-то я был добрым романтиком, который стре...</td>\n",
       "      <td>1</td>\n",
       "      <td>['404, поверьте, у каждого случается - не гото...</td>\n",
       "    </tr>\n",
       "    <tr>\n",
       "      <th>1</th>\n",
       "      <td>28.0</td>\n",
       "      <td>Птица</td>\n",
       "      <td>Здраствуйте! Я каждый день просыпаюсь с мыслью...</td>\n",
       "      <td>2</td>\n",
       "      <td>['Здравствуйте!Вот я сегодня прочла,что есть т...</td>\n",
       "    </tr>\n",
       "  </tbody>\n",
       "</table>\n",
       "</div>"
      ],
      "text/plain": [
       "    age   name                                               text  person_id  \\\n",
       "0  32.0    404  Когда-то я был добрым романтиком, который стре...          1   \n",
       "1  28.0  Птица  Здраствуйте! Я каждый день просыпаюсь с мыслью...          2   \n",
       "\n",
       "                                            response  \n",
       "0  ['404, поверьте, у каждого случается - не гото...  \n",
       "1  ['Здравствуйте!Вот я сегодня прочла,что есть т...  "
      ]
     },
     "execution_count": 6,
     "metadata": {},
     "output_type": "execute_result"
    }
   ],
   "source": [
    "depression_posts.head(1)"
   ]
  },
  {
   "cell_type": "code",
   "execution_count": 10,
   "metadata": {},
   "outputs": [
    {
     "data": {
      "text/html": [
       "<div>\n",
       "<style>\n",
       "    .dataframe thead tr:only-child th {\n",
       "        text-align: right;\n",
       "    }\n",
       "\n",
       "    .dataframe thead th {\n",
       "        text-align: left;\n",
       "    }\n",
       "\n",
       "    .dataframe tbody tr th {\n",
       "        vertical-align: top;\n",
       "    }\n",
       "</style>\n",
       "<table border=\"1\" class=\"dataframe\">\n",
       "  <thead>\n",
       "    <tr style=\"text-align: right;\">\n",
       "      <th></th>\n",
       "      <th>created</th>\n",
       "      <th>domain</th>\n",
       "      <th>profile_type</th>\n",
       "      <th>profile_url</th>\n",
       "      <th>text</th>\n",
       "      <th>url</th>\n",
       "    </tr>\n",
       "  </thead>\n",
       "  <tbody>\n",
       "    <tr>\n",
       "      <th>0</th>\n",
       "      <td>2019-03-22T21:35:20Z</td>\n",
       "      <td>vk.com</td>\n",
       "      <td>group</td>\n",
       "      <td>https://www.vk.com/public100919187</td>\n",
       "      <td>Токаев поручил правительству и акимам принять...</td>\n",
       "      <td>https://www.vk.com/wall-100919187_52089</td>\n",
       "    </tr>\n",
       "  </tbody>\n",
       "</table>\n",
       "</div>"
      ],
      "text/plain": [
       "                created  domain profile_type  \\\n",
       "0  2019-03-22T21:35:20Z  vk.com        group   \n",
       "\n",
       "                          profile_url  \\\n",
       "0  https://www.vk.com/public100919187   \n",
       "\n",
       "                                                text  \\\n",
       "0   Токаев поручил правительству и акимам принять...   \n",
       "\n",
       "                                       url  \n",
       "0  https://www.vk.com/wall-100919187_52089  "
      ]
     },
     "execution_count": 10,
     "metadata": {},
     "output_type": "execute_result"
    }
   ],
   "source": [
    "group_posts.head(1)"
   ]
  },
  {
   "cell_type": "code",
   "execution_count": 11,
   "metadata": {},
   "outputs": [
    {
     "data": {
      "text/html": [
       "<div>\n",
       "<style>\n",
       "    .dataframe thead tr:only-child th {\n",
       "        text-align: right;\n",
       "    }\n",
       "\n",
       "    .dataframe thead th {\n",
       "        text-align: left;\n",
       "    }\n",
       "\n",
       "    .dataframe tbody tr th {\n",
       "        vertical-align: top;\n",
       "    }\n",
       "</style>\n",
       "<table border=\"1\" class=\"dataframe\">\n",
       "  <thead>\n",
       "    <tr style=\"text-align: right;\">\n",
       "      <th></th>\n",
       "      <th>created</th>\n",
       "      <th>domain</th>\n",
       "      <th>profile_type</th>\n",
       "      <th>profile_url</th>\n",
       "      <th>text</th>\n",
       "      <th>url</th>\n",
       "    </tr>\n",
       "  </thead>\n",
       "  <tbody>\n",
       "    <tr>\n",
       "      <th>0</th>\n",
       "      <td>2019-03-23T14:46:02Z</td>\n",
       "      <td>vk.com</td>\n",
       "      <td>user</td>\n",
       "      <td>https://www.vk.com/id289730685</td>\n",
       "      <td>[id264842453|Нургуль], на фото взрослая, серье...</td>\n",
       "      <td>https://www.vk.com/wall-115351633_168996</td>\n",
       "    </tr>\n",
       "  </tbody>\n",
       "</table>\n",
       "</div>"
      ],
      "text/plain": [
       "                created  domain profile_type                     profile_url  \\\n",
       "0  2019-03-23T14:46:02Z  vk.com         user  https://www.vk.com/id289730685   \n",
       "\n",
       "                                                text  \\\n",
       "0  [id264842453|Нургуль], на фото взрослая, серье...   \n",
       "\n",
       "                                        url  \n",
       "0  https://www.vk.com/wall-115351633_168996  "
      ]
     },
     "execution_count": 11,
     "metadata": {},
     "output_type": "execute_result"
    }
   ],
   "source": [
    "user_posts.head(1)"
   ]
  },
  {
   "cell_type": "code",
   "execution_count": 12,
   "metadata": {
    "collapsed": true
   },
   "outputs": [],
   "source": [
    "depression_posts['label'] = 1\n",
    "group_posts['label'] = 0\n",
    "user_posts['label'] = 0"
   ]
  },
  {
   "cell_type": "code",
   "execution_count": 15,
   "metadata": {
    "collapsed": true
   },
   "outputs": [],
   "source": [
    "df = pd.concat([depression_posts[['text', 'label']], group_posts[['text', 'label']], user_posts[['text', 'label']]])"
   ]
  },
  {
   "cell_type": "code",
   "execution_count": 17,
   "metadata": {},
   "outputs": [
    {
     "data": {
      "text/html": [
       "<div>\n",
       "<style>\n",
       "    .dataframe thead tr:only-child th {\n",
       "        text-align: right;\n",
       "    }\n",
       "\n",
       "    .dataframe thead th {\n",
       "        text-align: left;\n",
       "    }\n",
       "\n",
       "    .dataframe tbody tr th {\n",
       "        vertical-align: top;\n",
       "    }\n",
       "</style>\n",
       "<table border=\"1\" class=\"dataframe\">\n",
       "  <thead>\n",
       "    <tr style=\"text-align: right;\">\n",
       "      <th></th>\n",
       "      <th>text</th>\n",
       "      <th>label</th>\n",
       "    </tr>\n",
       "  </thead>\n",
       "  <tbody>\n",
       "    <tr>\n",
       "      <th>0</th>\n",
       "      <td>Когда-то я был добрым романтиком, который стре...</td>\n",
       "      <td>1</td>\n",
       "    </tr>\n",
       "  </tbody>\n",
       "</table>\n",
       "</div>"
      ],
      "text/plain": [
       "                                                text  label\n",
       "0  Когда-то я был добрым романтиком, который стре...      1"
      ]
     },
     "execution_count": 17,
     "metadata": {},
     "output_type": "execute_result"
    }
   ],
   "source": [
    "df.head(1)"
   ]
  },
  {
   "cell_type": "markdown",
   "metadata": {},
   "source": [
    "# Cleaning"
   ]
  },
  {
   "cell_type": "code",
   "execution_count": 21,
   "metadata": {
    "collapsed": true
   },
   "outputs": [],
   "source": [
    "df['cleaned_text'] = df['text'].apply(lambda x: dataCleaner(str(x)))"
   ]
  },
  {
   "cell_type": "code",
   "execution_count": 22,
   "metadata": {},
   "outputs": [
    {
     "data": {
      "text/html": [
       "<div>\n",
       "<style>\n",
       "    .dataframe thead tr:only-child th {\n",
       "        text-align: right;\n",
       "    }\n",
       "\n",
       "    .dataframe thead th {\n",
       "        text-align: left;\n",
       "    }\n",
       "\n",
       "    .dataframe tbody tr th {\n",
       "        vertical-align: top;\n",
       "    }\n",
       "</style>\n",
       "<table border=\"1\" class=\"dataframe\">\n",
       "  <thead>\n",
       "    <tr style=\"text-align: right;\">\n",
       "      <th></th>\n",
       "      <th>text</th>\n",
       "      <th>label</th>\n",
       "      <th>cleaned_text</th>\n",
       "    </tr>\n",
       "  </thead>\n",
       "  <tbody>\n",
       "    <tr>\n",
       "      <th>0</th>\n",
       "      <td>Когда-то я был добрым романтиком, который стре...</td>\n",
       "      <td>1</td>\n",
       "      <td>[добрый, романтик, стремиться, помогать, попро...</td>\n",
       "    </tr>\n",
       "  </tbody>\n",
       "</table>\n",
       "</div>"
      ],
      "text/plain": [
       "                                                text  label  \\\n",
       "0  Когда-то я был добрым романтиком, который стре...      1   \n",
       "\n",
       "                                        cleaned_text  \n",
       "0  [добрый, романтик, стремиться, помогать, попро...  "
      ]
     },
     "execution_count": 22,
     "metadata": {},
     "output_type": "execute_result"
    }
   ],
   "source": [
    "df.head(1)"
   ]
  },
  {
   "cell_type": "code",
   "execution_count": 24,
   "metadata": {
    "collapsed": true
   },
   "outputs": [],
   "source": [
    "df.to_csv('clean_text.csv', index_label=False)"
   ]
  },
  {
   "cell_type": "code",
   "execution_count": 7,
   "metadata": {},
   "outputs": [
    {
     "data": {
      "text/plain": [
       "\"['добрый', 'романтик', 'стремиться', 'помогать', 'попросить', 'жалко', 'верить', 'человечность', 'однако', 'весь', 'фальший', 'суррогатный', 'дружба', 'непонятный', 'отношение', 'девушка', 'клясться', 'любить', 'итог', 'изменять', 'уходить', 'появляться', 'бесперспективный', 'попросту', 'достаточный', 'достаток', 'собственный', 'жилье', 'родитель', 'шизофрения', 'никто', 'поддерживать', 'поддерживать', 'итак', 'отдавать', 'кусочек', 'каждый', 'потерять', 'свой', 'душевный', 'тепло', 'становиться', 'безразлично', 'апатия', 'бывший', 'девушка', 'всякий', 'усилие', 'находить', 'новый', 'сразу', 'жениться', 'возить', 'разный', 'страна', 'мир', 'браться', 'любой', 'работа', 'показывать', 'плохой', 'часто', 'обманывать', 'недоплачивать', 'оплачивать', 'вовсе', 'простой', 'неудачник', 'потерять', 'смысл', 'жизнь', 'ситуация', 'спасать', 'внешность', 'ужасный', 'попросту', 'урод', 'часто', 'завидовать', 'везти', 'внешность', 'любить', 'даваться', 'легко', 'заниматься', 'свой', 'любимый', 'дело', 'часто', 'посещать', 'мысль', 'никто', 'также', 'весь', 'тщетно', 'бессмысленный', 'сказываться', 'пустота', 'внутри', 'часто', 'удивлять', 'многие', 'везти', 'складываться', 'почему', 'ничто', 'складываться', 'почему', 'выходить', 'потерять', 'документ', 'заплатить', 'именно', 'именно', 'место', 'закрывать', 'именно', 'использовать', 'бросать', 'именно', 'родитель', 'хотеться', 'весь', 'окружающий', 'оказываться', 'место', 'прочувствовать', 'понимать', 'каково', 'глубоко', 'хотеть', 'прекращать', 'весь', 'прерывать', 'свой', 'существование']\""
      ]
     },
     "execution_count": 7,
     "metadata": {},
     "output_type": "execute_result"
    }
   ],
   "source": [
    "df.cleaned_text.iloc[0]"
   ]
  },
  {
   "cell_type": "code",
   "execution_count": null,
   "metadata": {
    "collapsed": true
   },
   "outputs": [],
   "source": []
  }
 ],
 "metadata": {
  "hide_input": false,
  "kernelspec": {
   "display_name": "Python 3",
   "language": "python",
   "name": "python3"
  },
  "language_info": {
   "codemirror_mode": {
    "name": "ipython",
    "version": 3
   },
   "file_extension": ".py",
   "mimetype": "text/x-python",
   "name": "python",
   "nbconvert_exporter": "python",
   "pygments_lexer": "ipython3",
   "version": "3.6.5"
  },
  "toc": {
   "base_numbering": 1,
   "nav_menu": {},
   "number_sections": true,
   "sideBar": true,
   "skip_h1_title": false,
   "title_cell": "Table of Contents",
   "title_sidebar": "Contents",
   "toc_cell": false,
   "toc_position": {},
   "toc_section_display": true,
   "toc_window_display": false
  }
 },
 "nbformat": 4,
 "nbformat_minor": 1
}
